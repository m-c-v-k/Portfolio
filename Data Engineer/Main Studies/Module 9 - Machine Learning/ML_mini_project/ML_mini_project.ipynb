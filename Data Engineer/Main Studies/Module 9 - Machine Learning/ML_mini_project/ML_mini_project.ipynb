{
 "cells": [
  {
   "cell_type": "markdown",
   "metadata": {},
   "source": [
    "# ML Mini-Project"
   ]
  },
  {
   "attachments": {},
   "cell_type": "markdown",
   "metadata": {},
   "source": [
    "1. Import modules\n",
    "2. Load the data\n",
    "3. Divide data into training/testing set\n",
    "4. Create empty model\n",
    "5. Fit/train the model\n",
    "6. Evaluate the model"
   ]
  },
  {
   "attachments": {},
   "cell_type": "markdown",
   "metadata": {},
   "source": [
    "### Problem formulation: \n",
    "We want to be able to predict pizza type based on the ingredients it contains \\\n",
    "We may also want to be able to predict a pizza price based on ingredients and possibly some other metric"
   ]
  },
  {
   "cell_type": "code",
   "execution_count": 397,
   "metadata": {},
   "outputs": [],
   "source": [
    "# Importing necessary libraries\n",
    "import matplotlib.pyplot as plt\n",
    "import numpy as np\n",
    "import pandas as pd\n",
    "import os\n",
    "import re\n",
    "\n",
    "from sklearn.cluster import KMeans\n",
    "from sklearn.linear_model import LinearRegression\n",
    "from sklearn.svm import SVC\n",
    "from sklearn.inspection import DecisionBoundaryDisplay#"
   ]
  },
  {
   "attachments": {},
   "cell_type": "markdown",
   "metadata": {},
   "source": [
    "### Load Files"
   ]
  },
  {
   "cell_type": "code",
   "execution_count": 398,
   "metadata": {},
   "outputs": [],
   "source": [
    "DATA_PATH = f'{os.path.abspath(\"\")}/Data files'\n",
    "\n",
    "data_dictionary = pd.read_csv(f'{DATA_PATH}/data_dictionary.csv')\n",
    "order_details = pd.read_csv(f'{DATA_PATH}/pizza_sales/order_details.csv')\n",
    "orders = pd.read_csv(f'{DATA_PATH}/pizza_sales/orders.csv')\n",
    "pizza_types = pd.read_csv(f'{DATA_PATH}/pizza_sales/pizza_types.csv')\n",
    "pizzas = pd.read_csv(f'{DATA_PATH}/pizza_sales/pizzas.csv')\n",
    "# print(pizza_types)\n",
    "\n"
   ]
  },
  {
   "attachments": {},
   "cell_type": "markdown",
   "metadata": {},
   "source": [
    "### Transform DataFrames"
   ]
  },
  {
   "attachments": {},
   "cell_type": "markdown",
   "metadata": {},
   "source": [
    "Create a dataframe of each unique ingredient to be used for our classifications."
   ]
  },
  {
   "cell_type": "code",
   "execution_count": 400,
   "metadata": {},
   "outputs": [],
   "source": [
    "ingredient_list = []\n",
    "for i in range(len(pizza_types[\"ingredients\"])):\n",
    "    for n in range(len(pizza_types[\"ingredients\"][i].split(','))):\n",
    "        if n == 0: continue\n",
    "        ingredient_list.append(pizza_types[\"ingredients\"][i].split(',')[n].strip())\n",
    "\n",
    "ingredients = pd.DataFrame(ingredient_list, columns=['ingredient'])[\"ingredient\"].unique()\n",
    "\n",
    "\n",
    "ingredient_by_pizza_dict = {}\n",
    "for i in range(len(pizza_types[\"name\"])):\n",
    "    ingredient_by_pizza_dict[pizza_types[\"name\"][i]] = pizza_types[\"ingredients\"][i].split(',')"
   ]
  },
  {
   "cell_type": "code",
   "execution_count": 401,
   "metadata": {},
   "outputs": [],
   "source": [
    "pizza_ingredient = pizza_types\n",
    "pizza_ingredient[ingredients] = 0\n",
    "\n",
    "for i, ingredients in enumerate(pizza_ingredient['ingredients']):\n",
    "    for ingredient in ingredients:\n",
    "        if ingredient in pizza_ingredient.columns:\n",
    "            pizza_ingredient.loc[i, ingredient] = 1\n"
   ]
  },
  {
   "attachments": {},
   "cell_type": "markdown",
   "metadata": {},
   "source": [
    "Create a DataFrame of pizza id's and all ingredients as columns to be used for learning. \\\n",
    "If a pizza contains one ingredient, we give it the number 1. if it does not contain an ingredient we assign it a 0."
   ]
  },
  {
   "attachments": {},
   "cell_type": "markdown",
   "metadata": {},
   "source": [
    "### Transform\n",
    "Transform the Data into a viable dataframe."
   ]
  },
  {
   "cell_type": "markdown",
   "metadata": {},
   "source": []
  },
  {
   "cell_type": "code",
   "execution_count": 404,
   "metadata": {},
   "outputs": [
    {
     "name": "stdout",
     "output_type": "stream",
     "text": [
      "   pizza_type_id                                        name category  \\\n",
      "0        bbq_ckn                  The Barbecue Chicken Pizza  Chicken   \n",
      "1       cali_ckn                The California Chicken Pizza  Chicken   \n",
      "2    ckn_alfredo                   The Chicken Alfredo Pizza  Chicken   \n",
      "3      ckn_pesto                     The Chicken Pesto Pizza  Chicken   \n",
      "4     southw_ckn                 The Southwest Chicken Pizza  Chicken   \n",
      "5       thai_ckn                      The Thai Chicken Pizza  Chicken   \n",
      "6       big_meat                          The Big Meat Pizza  Classic   \n",
      "7    classic_dlx                    The Classic Deluxe Pizza  Classic   \n",
      "8       hawaiian                          The Hawaiian Pizza  Classic   \n",
      "9    ital_cpcllo                 The Italian Capocollo Pizza  Classic   \n",
      "10    napolitana                        The Napolitana Pizza  Classic   \n",
      "11   pep_msh_pep  The Pepperoni, Mushroom, and Peppers Pizza  Classic   \n",
      "12     pepperoni                         The Pepperoni Pizza  Classic   \n",
      "13     the_greek                             The Greek Pizza  Classic   \n",
      "14    brie_carre                        The Brie Carre Pizza  Supreme   \n",
      "15     calabrese                         The Calabrese Pizza  Supreme   \n",
      "16     ital_supr                   The Italian Supreme Pizza  Supreme   \n",
      "17  peppr_salami                     The Pepper Salami Pizza  Supreme   \n",
      "18    prsc_argla            The Prosciutto and Arugula Pizza  Supreme   \n",
      "19      sicilian                          The Sicilian Pizza  Supreme   \n",
      "20   soppressata                       The Soppressata Pizza  Supreme   \n",
      "21    spicy_ital                     The Spicy Italian Pizza  Supreme   \n",
      "22  spinach_supr                   The Spinach Supreme Pizza  Supreme   \n",
      "23   five_cheese                       The Five Cheese Pizza   Veggie   \n",
      "24   four_cheese                       The Four Cheese Pizza   Veggie   \n",
      "25  green_garden                      The Green Garden Pizza   Veggie   \n",
      "26   ital_veggie                The Italian Vegetables Pizza   Veggie   \n",
      "27  mediterraneo                     The Mediterranean Pizza   Veggie   \n",
      "28      mexicana                          The Mexicana Pizza   Veggie   \n",
      "29    spin_pesto                     The Spinach Pesto Pizza   Veggie   \n",
      "30   spinach_fet                  The Spinach and Feta Pizza   Veggie   \n",
      "31    veggie_veg           The Vegetables + Vegetables Pizza   Veggie   \n",
      "\n",
      "    quantity_sold  \n",
      "0            2370  \n",
      "1            2416  \n",
      "2            1359  \n",
      "3            1849  \n",
      "4            1456  \n",
      "5            2315  \n",
      "6            1849  \n",
      "7            1428  \n",
      "8            1849  \n",
      "9            1849  \n",
      "10           2372  \n",
      "11           1406  \n",
      "12            940  \n",
      "13            940  \n",
      "14           2416  \n",
      "15            987  \n",
      "16           1414  \n",
      "17           1849  \n",
      "18           1849  \n",
      "19           1456  \n",
      "20           1887  \n",
      "21            957  \n",
      "22           1510  \n",
      "23           1456  \n",
      "24           1885  \n",
      "25           2372  \n",
      "26           2302  \n",
      "27           2302  \n",
      "28           2369  \n",
      "29           2302  \n",
      "30           2302  \n",
      "31            961  \n"
     ]
    }
   ],
   "source": [
    "# Get total count of sold pizza per pizza_type_id\n",
    "pizza_list = pizza_types[['pizza_type_id', 'name', 'category']].copy()\n",
    "\n",
    "sold_pizzas = order_details[['pizza_id', 'quantity']].copy()\n",
    "sold_pizzas['pizza_id'] = sold_pizzas['pizza_id'].str.replace(r\"(_s$)|(_m$)|(_l$)|(_xl$)|(_xxl$)|\", \"\", regex=True)\n",
    "pizza_list['quantity_sold'] = sold_pizzas.groupby(['pizza_id'])['quantity'].transform('count')\n",
    "\n",
    "pizza_list.at[10, 'category'] = 'Classic'\n",
    "pizza_list.at[28, 'category'] = 'Veggie'\n",
    "\n",
    "print(pizza_list)"
   ]
  },
  {
   "cell_type": "code",
   "execution_count": 432,
   "metadata": {},
   "outputs": [],
   "source": [
    "temp_df = pizza_ingredient.drop([\"name\",\"pizza_type_id\", \"ingredients\"], axis=1)\n",
    "temp_df.at[10, 'category'] = 'Classic'\n",
    "temp_df.at[28, 'category'] = 'Veggie'\n",
    "\n",
    "\n",
    "cat = pd.Series(temp_df['category'].unique()).map(lambda x: \"Other\" if x == 1 else x)\n",
    "cat = pd.DataFrame(temp_df, columns=['category'])\n",
    "# catdict = {cat[\"category\"].values[i]:range(0,len(cat))[i] for i in range(len(cat[\"category\"].values))}\n",
    "# i = 0\n",
    "# for key in catdict.keys():\n",
    "#     catdict[key] = i\n",
    "#     i +=1\n",
    "\n",
    "# temp_df[\"category\"] = temp_df[\"category\"].map(lambda x: catdict[x])\n",
    "\n",
    "\n",
    "temp_df.loc[temp_df[\"category\"] == 'Chicken', 'category'] = 0\n",
    "temp_df.loc[temp_df[\"category\"] == 'Classic', 'category'] = 1\n",
    "temp_df.loc[temp_df['category'] == 'Supreme', 'category'] = 2\n",
    "temp_df.loc[temp_df['category'] == 'Veggie', 'category'] = 3"
   ]
  },
  {
   "cell_type": "code",
   "execution_count": 431,
   "metadata": {},
   "outputs": [
    {
     "name": "stdout",
     "output_type": "stream",
     "text": [
      "0     0\n",
      "1     0\n",
      "2     0\n",
      "3     0\n",
      "4     0\n",
      "5     0\n",
      "6     1\n",
      "7     1\n",
      "8     1\n",
      "9     1\n",
      "10    1\n",
      "11    1\n",
      "12    1\n",
      "13    1\n",
      "14    2\n",
      "15    2\n",
      "16    2\n",
      "17    2\n",
      "18    2\n",
      "19    2\n",
      "20    2\n",
      "21    2\n",
      "22    2\n",
      "23    3\n",
      "24    3\n",
      "25    3\n",
      "26    3\n",
      "27    3\n",
      "28    3\n",
      "29    3\n",
      "30    3\n",
      "31    3\n",
      "Name: category, dtype: int64\n"
     ]
    }
   ],
   "source": [
    "print(temp_df[\"category\"])"
   ]
  },
  {
   "attachments": {},
   "cell_type": "markdown",
   "metadata": {},
   "source": [
    "Tables I think we want for classification on label category: \\\n",
    "1. pizza_category - labels for our id's predicted by classification \\\n",
    "2. pizza_ingredients_categories(name?) - columns : pizza-id, pizza category, *features(one column for each ingredient, maybe more to predict on) \\\n",
    "3. pizza id by count(sold_pizza_id)\n",
    "   1. helen 2. Andreas 3. Marcus\n"
   ]
  },
  {
   "cell_type": "markdown",
   "metadata": {},
   "source": []
  }
 ],
 "metadata": {
  "kernelspec": {
   "display_name": "Python 3",
   "language": "python",
   "name": "python3"
  },
  "language_info": {
   "codemirror_mode": {
    "name": "ipython",
    "version": 3
   },
   "file_extension": ".py",
   "mimetype": "text/x-python",
   "name": "python",
   "nbconvert_exporter": "python",
   "pygments_lexer": "ipython3",
   "version": "3.9.6"
  },
  "orig_nbformat": 4,
  "vscode": {
   "interpreter": {
    "hash": "81794d4967e6c3204c66dcd87b604927b115b27c00565d3d43f05ba2f3a2cb0d"
   }
  }
 },
 "nbformat": 4,
 "nbformat_minor": 2
}
