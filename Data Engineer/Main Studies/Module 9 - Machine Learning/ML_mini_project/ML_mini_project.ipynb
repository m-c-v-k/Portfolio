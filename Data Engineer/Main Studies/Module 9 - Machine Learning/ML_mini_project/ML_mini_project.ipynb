{
 "cells": [
  {
   "cell_type": "markdown",
   "metadata": {},
   "source": [
    "# ML Mini-Project"
   ]
  },
  {
   "attachments": {},
   "cell_type": "markdown",
   "metadata": {},
   "source": [
    "1. Import modules\n",
    "2. Load the data\n",
    "3. Divide data into training/testing set\n",
    "4. Create empty model\n",
    "5. Fit/train the model\n",
    "6. Evaluate the model"
   ]
  },
  {
   "attachments": {},
   "cell_type": "markdown",
   "metadata": {},
   "source": [
    "### Problem formulation: \n",
    "We want to be able to predict pizza type based on the ingredients it contains \\\n",
    "We may also want to be able to predict a pizza price based on ingredients and possibly some other metric"
   ]
  },
  {
   "cell_type": "code",
   "execution_count": 61,
   "metadata": {},
   "outputs": [],
   "source": [
    "# Importing necessary libraries\n",
    "import matplotlib.pyplot as plt\n",
    "import numpy as np\n",
    "import pandas as pd\n",
    "import os\n",
    "\n",
    "from sklearn.cluster import KMeans\n",
    "from sklearn.linear_model import LinearRegression\n",
    "from sklearn.svm import SVC\n",
    "from sklearn.inspection import DecisionBoundaryDisplay#"
   ]
  },
  {
   "attachments": {},
   "cell_type": "markdown",
   "metadata": {},
   "source": [
    "### Load Files"
   ]
  },
  {
   "cell_type": "code",
   "execution_count": 88,
   "metadata": {},
   "outputs": [
    {
     "name": "stdout",
     "output_type": "stream",
     "text": [
      "[' Red Peppers' ' Green Peppers' ' Tomatoes' ' Red Onions'\n",
      " ' Barbecue Sauce' ' Artichoke' ' Spinach' ' Garlic' ' Jalapeno Peppers'\n",
      " ' Fontina Cheese' ' Gouda Cheese' ' Mushrooms' ' Asiago Cheese'\n",
      " ' Alfredo Sauce' ' Pesto Sauce' ' Corn' ' Cilantro' ' Chipotle Sauce'\n",
      " ' Pineapple' ' Thai Sweet Chilli Sauce' ' Pepperoni' ' Italian Sausage'\n",
      " ' Chorizo Sausage' ' Bacon' ' Mozzarella Cheese' ' Goat Cheese'\n",
      " ' Oregano' ' Anchovies' ' Green Olives' ' Feta Cheese'\n",
      " ' Beef Chuck Roast' ' Prosciutto' ' Caramelized Onions' ' Pears' ' Thyme'\n",
      " ' Pancetta' ' Friggitello Peppers' ' Capocollo' ' Arugula'\n",
      " ' Luganega Sausage' ' Onions' ' Artichokes' ' Peperoncini verdi'\n",
      " ' Kalamata Olives' ' Provolone Cheese' ' Smoked Gouda Cheese'\n",
      " ' Romano Cheese' ' Blue Cheese' ' Gorgonzola Piccante Cheese'\n",
      " ' Parmigiano Reggiano Cheese' ' Zucchini' ' Sun-dried Tomatoes'\n",
      " ' Plum Tomatoes']\n"
     ]
    }
   ],
   "source": [
    "DATA_PATH = f'{os.path.abspath(\"\")}/Data files'\n",
    "\n",
    "data_dictionary = pd.read_csv(f'{DATA_PATH}/data_dictionary.csv')\n",
    "order_details = pd.read_csv(f'{DATA_PATH}/pizza_sales/order_details.csv')\n",
    "orders = pd.read_csv(f'{DATA_PATH}/pizza_sales/orders.csv')\n",
    "pizza_types = pd.read_csv(f'{DATA_PATH}/pizza_sales/pizza_types.csv')\n",
    "pizzas = pd.read_csv(f'{DATA_PATH}/pizza_sales/pizzas.csv')\n",
    "# print(pizza_types)\n",
    "\n"
   ]
  },
  {
   "attachments": {},
   "cell_type": "markdown",
   "metadata": {},
   "source": [
    "### Transform DataFrames"
   ]
  },
  {
   "attachments": {},
   "cell_type": "markdown",
   "metadata": {},
   "source": [
    "Create a dataframe of each unique ingredient to be used for our classifications."
   ]
  },
  {
   "cell_type": "code",
   "execution_count": 91,
   "metadata": {},
   "outputs": [
    {
     "name": "stdout",
     "output_type": "stream",
     "text": [
      "['Red Peppers' 'Green Peppers' 'Tomatoes' 'Red Onions' 'Barbecue Sauce'\n",
      " 'Artichoke' 'Spinach' 'Garlic' 'Jalapeno Peppers' 'Fontina Cheese'\n",
      " 'Gouda Cheese' 'Mushrooms' 'Asiago Cheese' 'Alfredo Sauce' 'Pesto Sauce'\n",
      " 'Corn' 'Cilantro' 'Chipotle Sauce' 'Pineapple' 'Thai Sweet Chilli Sauce'\n",
      " 'Pepperoni' 'Italian Sausage' 'Chorizo Sausage' 'Bacon'\n",
      " 'Mozzarella Cheese' 'Goat Cheese' 'Oregano' 'Anchovies' 'Green Olives'\n",
      " 'Feta Cheese' 'Beef Chuck Roast' 'Prosciutto' 'Caramelized Onions'\n",
      " 'Pears' 'Thyme' 'Pancetta' 'Friggitello Peppers' 'Capocollo' 'Arugula'\n",
      " 'Luganega Sausage' 'Onions' 'Artichokes' 'Peperoncini verdi'\n",
      " 'Kalamata Olives' 'Provolone Cheese' 'Smoked Gouda Cheese'\n",
      " 'Romano Cheese' 'Blue Cheese' 'Gorgonzola Piccante Cheese'\n",
      " 'Parmigiano Reggiano Cheese' 'Zucchini' 'Sun-dried Tomatoes'\n",
      " 'Plum Tomatoes']\n"
     ]
    }
   ],
   "source": [
    "ingredient_list = []\n",
    "for i in range(len(pizza_types[\"ingredients\"])):\n",
    "    for n in range(len(pizza_types[\"ingredients\"][i].split(','))):\n",
    "        if n == 0: continue\n",
    "        ingredient_list.append(pizza_types[\"ingredients\"][i].split(',')[n].strip())\n",
    "\n",
    "ingredients = pd.DataFrame(ingredient_list, columns=['ingredient'])[\"ingredient\"].unique()\n",
    "\n",
    "print(ingredients)"
   ]
  },
  {
   "cell_type": "code",
   "execution_count": 110,
   "metadata": {},
   "outputs": [
    {
     "data": {
      "text/html": [
       "<div>\n",
       "<style scoped>\n",
       "    .dataframe tbody tr th:only-of-type {\n",
       "        vertical-align: middle;\n",
       "    }\n",
       "\n",
       "    .dataframe tbody tr th {\n",
       "        vertical-align: top;\n",
       "    }\n",
       "\n",
       "    .dataframe thead th {\n",
       "        text-align: right;\n",
       "    }\n",
       "</style>\n",
       "<table border=\"1\" class=\"dataframe\">\n",
       "  <thead>\n",
       "    <tr style=\"text-align: right;\">\n",
       "      <th></th>\n",
       "      <th>pizza_id</th>\n",
       "      <th>pizza_type_id</th>\n",
       "      <th>size</th>\n",
       "      <th>price</th>\n",
       "    </tr>\n",
       "  </thead>\n",
       "  <tbody>\n",
       "    <tr>\n",
       "      <th>0</th>\n",
       "      <td>bbq_ckn_s</td>\n",
       "      <td>bbq_ckn</td>\n",
       "      <td>S</td>\n",
       "      <td>12.75</td>\n",
       "    </tr>\n",
       "    <tr>\n",
       "      <th>1</th>\n",
       "      <td>bbq_ckn_m</td>\n",
       "      <td>bbq_ckn</td>\n",
       "      <td>M</td>\n",
       "      <td>16.75</td>\n",
       "    </tr>\n",
       "    <tr>\n",
       "      <th>2</th>\n",
       "      <td>bbq_ckn_l</td>\n",
       "      <td>bbq_ckn</td>\n",
       "      <td>L</td>\n",
       "      <td>20.75</td>\n",
       "    </tr>\n",
       "    <tr>\n",
       "      <th>3</th>\n",
       "      <td>cali_ckn_s</td>\n",
       "      <td>cali_ckn</td>\n",
       "      <td>S</td>\n",
       "      <td>12.75</td>\n",
       "    </tr>\n",
       "    <tr>\n",
       "      <th>4</th>\n",
       "      <td>cali_ckn_m</td>\n",
       "      <td>cali_ckn</td>\n",
       "      <td>M</td>\n",
       "      <td>16.75</td>\n",
       "    </tr>\n",
       "    <tr>\n",
       "      <th>...</th>\n",
       "      <td>...</td>\n",
       "      <td>...</td>\n",
       "      <td>...</td>\n",
       "      <td>...</td>\n",
       "    </tr>\n",
       "    <tr>\n",
       "      <th>91</th>\n",
       "      <td>spinach_fet_m</td>\n",
       "      <td>spinach_fet</td>\n",
       "      <td>M</td>\n",
       "      <td>16.00</td>\n",
       "    </tr>\n",
       "    <tr>\n",
       "      <th>92</th>\n",
       "      <td>spinach_fet_l</td>\n",
       "      <td>spinach_fet</td>\n",
       "      <td>L</td>\n",
       "      <td>20.25</td>\n",
       "    </tr>\n",
       "    <tr>\n",
       "      <th>93</th>\n",
       "      <td>veggie_veg_s</td>\n",
       "      <td>veggie_veg</td>\n",
       "      <td>S</td>\n",
       "      <td>12.00</td>\n",
       "    </tr>\n",
       "    <tr>\n",
       "      <th>94</th>\n",
       "      <td>veggie_veg_m</td>\n",
       "      <td>veggie_veg</td>\n",
       "      <td>M</td>\n",
       "      <td>16.00</td>\n",
       "    </tr>\n",
       "    <tr>\n",
       "      <th>95</th>\n",
       "      <td>veggie_veg_l</td>\n",
       "      <td>veggie_veg</td>\n",
       "      <td>L</td>\n",
       "      <td>20.25</td>\n",
       "    </tr>\n",
       "  </tbody>\n",
       "</table>\n",
       "<p>96 rows × 4 columns</p>\n",
       "</div>"
      ],
      "text/plain": [
       "         pizza_id pizza_type_id size  price\n",
       "0       bbq_ckn_s       bbq_ckn    S  12.75\n",
       "1       bbq_ckn_m       bbq_ckn    M  16.75\n",
       "2       bbq_ckn_l       bbq_ckn    L  20.75\n",
       "3      cali_ckn_s      cali_ckn    S  12.75\n",
       "4      cali_ckn_m      cali_ckn    M  16.75\n",
       "..            ...           ...  ...    ...\n",
       "91  spinach_fet_m   spinach_fet    M  16.00\n",
       "92  spinach_fet_l   spinach_fet    L  20.25\n",
       "93   veggie_veg_s    veggie_veg    S  12.00\n",
       "94   veggie_veg_m    veggie_veg    M  16.00\n",
       "95   veggie_veg_l    veggie_veg    L  20.25\n",
       "\n",
       "[96 rows x 4 columns]"
      ]
     },
     "execution_count": 110,
     "metadata": {},
     "output_type": "execute_result"
    }
   ],
   "source": []
  },
  {
   "attachments": {},
   "cell_type": "markdown",
   "metadata": {},
   "source": [
    "Create a DataFrame of pizza id's and all ingredients as columns to be used for learning. \\\n",
    "If a pizza contains one ingredient, we give it the number 1. if it does not contain an ingredient we assign it a 0."
   ]
  },
  {
   "attachments": {},
   "cell_type": "markdown",
   "metadata": {},
   "source": [
    "### Transform\n",
    "Transform the Data into a viable dataframe."
   ]
  },
  {
   "cell_type": "markdown",
   "metadata": {},
   "source": []
  },
  {
   "cell_type": "code",
   "execution_count": 109,
   "metadata": {},
   "outputs": [
    {
     "name": "stdout",
     "output_type": "stream",
     "text": [
      "   pizza_type_id                                        name\n",
      "0        bbq_ckn                  The Barbecue Chicken Pizza\n",
      "1       cali_ckn                The California Chicken Pizza\n",
      "2    ckn_alfredo                   The Chicken Alfredo Pizza\n",
      "3      ckn_pesto                     The Chicken Pesto Pizza\n",
      "4     southw_ckn                 The Southwest Chicken Pizza\n",
      "5       thai_ckn                      The Thai Chicken Pizza\n",
      "6       big_meat                          The Big Meat Pizza\n",
      "7    classic_dlx                    The Classic Deluxe Pizza\n",
      "8       hawaiian                          The Hawaiian Pizza\n",
      "9    ital_cpcllo                 The Italian Capocollo Pizza\n",
      "10    napolitana                        The Napolitana Pizza\n",
      "11   pep_msh_pep  The Pepperoni, Mushroom, and Peppers Pizza\n",
      "12     pepperoni                         The Pepperoni Pizza\n",
      "13     the_greek                             The Greek Pizza\n",
      "14    brie_carre                        The Brie Carre Pizza\n",
      "15     calabrese                         The Calabrese Pizza\n",
      "16     ital_supr                   The Italian Supreme Pizza\n",
      "17  peppr_salami                     The Pepper Salami Pizza\n",
      "18    prsc_argla            The Prosciutto and Arugula Pizza\n",
      "19      sicilian                          The Sicilian Pizza\n",
      "20   soppressata                       The Soppressata Pizza\n",
      "21    spicy_ital                     The Spicy Italian Pizza\n",
      "22  spinach_supr                   The Spinach Supreme Pizza\n",
      "23   five_cheese                       The Five Cheese Pizza\n",
      "24   four_cheese                       The Four Cheese Pizza\n",
      "25  green_garden                      The Green Garden Pizza\n",
      "26   ital_veggie                The Italian Vegetables Pizza\n",
      "27  mediterraneo                     The Mediterranean Pizza\n",
      "28      mexicana                          The Mexicana Pizza\n",
      "29    spin_pesto                     The Spinach Pesto Pizza\n",
      "30   spinach_fet                  The Spinach and Feta Pizza\n",
      "31    veggie_veg           The Vegetables + Vegetables Pizza\n"
     ]
    }
   ],
   "source": [
    "# print(order_details)\n",
    "# print(pizza_types.columns)\n",
    "\n",
    "pizza_list = pizza_types[['pizza_type_id', 'name']].copy()\n",
    "pizza_list['sold_count']\n",
    "# for item in pizza_types:\n",
    "#     pizza_list.append(item)\n",
    "\n",
    "# pizza_id, namn, igerediens\n",
    "# sold_pizzas = df.groupby(order_details['pizza_id']).count()\n",
    "# pizza_id + count_sold_pizza\n",
    "# Normalize count_sold_pizza\n",
    "\n",
    "print(pizza_list)\n",
    "# print(sold_pizzas)"
   ]
  },
  {
   "cell_type": "code",
   "execution_count": null,
   "metadata": {},
   "outputs": [],
   "source": [
    "# pizza_type_id, pizza_category_id"
   ]
  },
  {
   "attachments": {},
   "cell_type": "markdown",
   "metadata": {},
   "source": [
    "Tables I think we want for classification on label category: \\\n",
    "1. pizza_category - labels for our id's predicted by classification \\\n",
    "2. pizza_ingredients_categories(name?) - columns : pizza-id, pizza category, *features(one column for each ingredient, maybe more to predict on) \\\n",
    "3. pizza id by count(sold_pizza_id)\n",
    "   1. helen 2. Andreas 3. Marcus\n"
   ]
  },
  {
   "cell_type": "markdown",
   "metadata": {},
   "source": []
  }
 ],
 "metadata": {
  "kernelspec": {
   "display_name": "Python 3",
   "language": "python",
   "name": "python3"
  },
  "language_info": {
   "codemirror_mode": {
    "name": "ipython",
    "version": 3
   },
   "file_extension": ".py",
   "mimetype": "text/x-python",
   "name": "python",
   "nbconvert_exporter": "python",
   "pygments_lexer": "ipython3",
   "version": "3.9.6"
  },
  "orig_nbformat": 4,
  "vscode": {
   "interpreter": {
    "hash": "81794d4967e6c3204c66dcd87b604927b115b27c00565d3d43f05ba2f3a2cb0d"
   }
  }
 },
 "nbformat": 4,
 "nbformat_minor": 2
}
