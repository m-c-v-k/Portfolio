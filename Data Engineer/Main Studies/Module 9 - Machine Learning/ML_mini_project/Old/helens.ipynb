{
 "cells": [
  {
   "cell_type": "code",
   "execution_count": 1,
   "metadata": {},
   "outputs": [],
   "source": [
    "import pandas as pd\n",
    "from sklearn.model_selection import train_test_split\n",
    "from sklearn.linear_model import LogisticRegression\n",
    "from sklearn.metrics import accuracy_score"
   ]
  },
  {
   "cell_type": "code",
   "execution_count": 2,
   "metadata": {},
   "outputs": [
    {
     "ename": "NameError",
     "evalue": "name 'x_train' is not defined",
     "output_type": "error",
     "traceback": [
      "\u001b[1;31m---------------------------------------------------------------------------\u001b[0m",
      "\u001b[1;31mNameError\u001b[0m                                 Traceback (most recent call last)",
      "Cell \u001b[1;32mIn[2], line 3\u001b[0m\n\u001b[0;32m      1\u001b[0m pizza_model\u001b[39m=\u001b[39m svm\u001b[39m.\u001b[39mSVC()\n\u001b[1;32m----> 3\u001b[0m pizza_model\u001b[39m.\u001b[39mfit(x_train, y_train)\n\u001b[0;32m      5\u001b[0m y_pred \u001b[39m=\u001b[39m pizza_model\u001b[39m.\u001b[39mpredict(x_test)\n\u001b[0;32m      7\u001b[0m accuracy \u001b[39m=\u001b[39m pizza_model\u001b[39m.\u001b[39mscore(x_test, y_test)\n",
      "\u001b[1;31mNameError\u001b[0m: name 'x_train' is not defined"
     ]
    }
   ],
   "source": [
    "logreg= LogisticRegression()\n",
    "logreg.fit(X_train, y_train)\n",
    "\n",
    "y_pred= logreg.predict(X_test)\n",
    "\n",
    "accuracy= accuracy_score(y_test, y_pred)\n",
    "print(\"Accuracy: {:.2f}%\".format(accuracy * 100))"
   ]
  },
  {
   "cell_type": "code",
   "execution_count": null,
   "metadata": {},
   "outputs": [],
   "source": [
    "def plot(ingredient_list):\n",
    "    X =transform_data(ingredient_list).values\n",
    "    y_pred = evalute_model(ingredient_list)\n",
    "    y_true = [y_pred] * len(X)\n",
    "    unique = np.unique(y_true)\n",
    "    colors = [plt.cm.rainbow(i/float(len(unique)-1))for i in range(len(unique))]\n",
    "    for i, u in enumerate(unique):\n",
    "        xi = [X[j,0] for j in range(len(X)) if y_true]\n",
    "\n"
   ]
  }
 ],
 "metadata": {
  "kernelspec": {
   "display_name": "Python 3",
   "language": "python",
   "name": "python3"
  },
  "language_info": {
   "codemirror_mode": {
    "name": "ipython",
    "version": 3
   },
   "file_extension": ".py",
   "mimetype": "text/x-python",
   "name": "python",
   "nbconvert_exporter": "python",
   "pygments_lexer": "ipython3",
   "version": "3.9.6"
  },
  "orig_nbformat": 4,
  "vscode": {
   "interpreter": {
    "hash": "81794d4967e6c3204c66dcd87b604927b115b27c00565d3d43f05ba2f3a2cb0d"
   }
  }
 },
 "nbformat": 4,
 "nbformat_minor": 2
}
