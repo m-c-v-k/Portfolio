{
 "cells": [
  {
   "cell_type": "code",
   "execution_count": 2,
   "metadata": {},
   "outputs": [],
   "source": [
    "import numpy as np\n",
    "from scipy.optimize import minimize\n"
   ]
  },
  {
   "cell_type": "code",
   "execution_count": 3,
   "metadata": {},
   "outputs": [],
   "source": [
    "# Load data\n",
    "xm = np.array([\n",
    "    18.3447,79.86538,85.09788,10.5211,44.4556,\n",
    "    69.567,8.960,86.197,66.857,16.875,\n",
    "    52.2697,93.917,24.35,5.118,25.126,\n",
    "    34.037,61.4445,42.704,39.531,29.988\n",
    "])\n",
    "\n",
    "ym = np.array([\n",
    "    5.072,7.1588,7.263,4.255,6.282,\n",
    "    6.9118,4.044,7.2595,6.898,4.8744,\n",
    "    6.5179,7.3434,5.4316,3.38,5.464,\n",
    "    5.90,6.80,6.193,6.070,5.737\n",
    "])"
   ]
  },
  {
   "cell_type": "code",
   "execution_count": 4,
   "metadata": {},
   "outputs": [],
   "source": [
    "# Calculate y\n",
    "def calc_y(x):\n",
    "    a,b,c = x\n",
    "    y = a+b/xm + c*np.log(xm)\n",
    "    \n",
    "    return y\n"
   ]
  },
  {
   "cell_type": "code",
   "execution_count": 5,
   "metadata": {},
   "outputs": [],
   "source": [
    "# Define objecive\n",
    "def objective(x):\n",
    "    return np.sum(((calc_y(x) - ym)/ym)**2)\n",
    "    "
   ]
  },
  {
   "cell_type": "code",
   "execution_count": 6,
   "metadata": {},
   "outputs": [],
   "source": [
    "# Initial guesses\n",
    "x0 = np.zeros(3)"
   ]
  },
  {
   "cell_type": "code",
   "execution_count": 7,
   "metadata": {},
   "outputs": [
    {
     "name": "stdout",
     "output_type": "stream",
     "text": [
      "Initial SSE Objective: 20.0\n"
     ]
    }
   ],
   "source": [
    "# Show initial objective\n",
    "print(f'Initial SSE Objective: {objective(x0)}')"
   ]
  },
  {
   "cell_type": "code",
   "execution_count": 8,
   "metadata": {},
   "outputs": [],
   "source": [
    "# Optimize\n",
    "# Bounds on variables\n",
    "bnds100 = (-100, 100)\n",
    "no_bnds = (-1.0e10, 1.0e10)\n",
    "bnds = (no_bnds, no_bnds, bnds100)\n",
    "solution = minimize(objective, x0, method='SLSQP', bounds=bnds)\n",
    "\n",
    "X = solution.x\n",
    "y = calc_y(X)"
   ]
  },
  {
   "cell_type": "code",
   "execution_count": 9,
   "metadata": {},
   "outputs": [
    {
     "name": "stdout",
     "output_type": "stream",
     "text": [
      "Final SSE Objective: 0.0003651726174522593\n"
     ]
    }
   ],
   "source": [
    "# Show final objective\n",
    "print(f'Final SSE Objective: {objective(X)}')"
   ]
  },
  {
   "cell_type": "code",
   "execution_count": 10,
   "metadata": {},
   "outputs": [
    {
     "name": "stdout",
     "output_type": "stream",
     "text": [
      "Solution\n",
      "a = 0.5514581077186436\n",
      "b = 1.9269703429736875\n",
      "c = 1.499428856802254\n"
     ]
    }
   ],
   "source": [
    "# Print solution\n",
    "print('Solution')\n",
    "print(f'a = {X[0]}')\n",
    "print(f'b = {X[1]}')\n",
    "print(f'c = {X[2]}')\n"
   ]
  },
  {
   "cell_type": "code",
   "execution_count": 11,
   "metadata": {},
   "outputs": [
    {
     "data": {
      "image/png": "[encoded data removed]",
      "text/plain": [
       "<Figure size 640x480 with 1 Axes>"
      ]
     },
     "metadata": {},
     "output_type": "display_data"
    }
   ],
   "source": [
    "# Plot solution\n",
    "# Importing necessary libraties\n",
    "import matplotlib.pyplot as plt\n",
    "\n",
    "plt.figure(1)\n",
    "plt.plot(xm,ym,'ro')\n",
    "plt.plot(xm,y,'bx')\n",
    "plt.xlabel('X')\n",
    "plt.ylabel('y')\n",
    "plt.legend(['Measures', 'Predicted'], loc='best')\n",
    "plt.savefig('results_SciPy.png')\n",
    "plt.show()"
   ]
  }
 ],
 "metadata": {
  "kernelspec": {
   "display_name": "Python 3",
   "language": "python",
   "name": "python3"
  },
  "language_info": {
   "codemirror_mode": {
    "name": "ipython",
    "version": 3
   },
   "file_extension": ".py",
   "mimetype": "text/x-python",
   "name": "python",
   "nbconvert_exporter": "python",
   "pygments_lexer": "ipython3",
   "version": "3.9.6"
  },
  "orig_nbformat": 4,
  "vscode": {
   "interpreter": {
    "hash": "81794d4967e6c3204c66dcd87b604927b115b27c00565d3d43f05ba2f3a2cb0d"
   }
  }
 },
 "nbformat": 4,
 "nbformat_minor": 2
}
