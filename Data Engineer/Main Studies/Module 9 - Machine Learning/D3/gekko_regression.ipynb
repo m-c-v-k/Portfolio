{
 "cells": [
  {
   "cell_type": "code",
   "execution_count": 1,
   "metadata": {},
   "outputs": [],
   "source": [
    "# Importing necessary libraries\n",
    "import numpy as np\n",
    "from gekko import GEKKO\n"
   ]
  },
  {
   "cell_type": "code",
   "execution_count": 6,
   "metadata": {},
   "outputs": [],
   "source": [
    "# Data\n",
    "xm = np.array([\n",
    "    18.3447,79.86538,85.09788,10.5211,44.4556,\n",
    "               69.567,8.960,86.197,66.857,16.875,\n",
    "               52.2697,93.917,24.35,5.118,25.126,\n",
    "               34.037,61.4445,42.704,39.531,29.988\n",
    "])\n",
    "\n",
    "ym = np.array([\n",
    "    5.072,7.1588,7.263,4.255,6.282,\n",
    "               6.9118,4.044,7.2595,6.898,4.8744,\n",
    "               6.5179,7.3434,5.4316,3.38,5.464,\n",
    "               5.90,6.80,6.193,6.070,5.737\n",
    "])\n"
   ]
  },
  {
   "cell_type": "code",
   "execution_count": 3,
   "metadata": {},
   "outputs": [],
   "source": [
    "# Regression\n",
    "m = GEKKO() # remote=False for local mode\n"
   ]
  },
  {
   "cell_type": "code",
   "execution_count": 4,
   "metadata": {},
   "outputs": [],
   "source": [
    "# Parameters and variables\n",
    "a = m.FV(value=0); a.STATUS=1\n",
    "b = m.FV(value=0); b.STATUS=1\n",
    "c = m.FV(value=0, lb=-100, ub=100); c.STATUS=1"
   ]
  },
  {
   "cell_type": "code",
   "execution_count": 7,
   "metadata": {},
   "outputs": [],
   "source": [
    "# Load data\n",
    "X = m.Param(value=xm)\n",
    "ymeas = m.Param(value=ym)\n",
    "ypred = m.Var()\n"
   ]
  },
  {
   "cell_type": "code",
   "execution_count": 10,
   "metadata": {},
   "outputs": [
    {
     "name": "stdout",
     "output_type": "stream",
     "text": [
      "apm 85.30.175.12_gk_model0 <br><pre> ----------------------------------------------------------------\n",
      " APMonitor, Version 1.0.1\n",
      " APMonitor Optimization Suite\n",
      " ----------------------------------------------------------------\n",
      " \n",
      " \n",
      " --------- APM Model Size ------------\n",
      " Each time step contains\n",
      "   Objects      :            0\n",
      "   Constants    :            0\n",
      "   Variables    :            7\n",
      "   Intermediates:            0\n",
      "   Connections  :            0\n",
      "   Equations    :            2\n",
      "   Residuals    :            2\n",
      " \n",
      " Number of state variables:             23\n",
      " Number of total equations: -           20\n",
      " Number of slack variables: -            0\n",
      " ---------------------------------------\n",
      " Degrees of freedom       :              3\n",
      " \n",
      " **********************************************\n",
      " Model Parameter Estimation with Interior Point Solver\n",
      " **********************************************\n",
      "  \n",
      "  \n",
      " Info: Exact Hessian\n",
      "\n",
      "******************************************************************************\n",
      "This program contains Ipopt, a library for large-scale nonlinear optimization.\n",
      " Ipopt is released as open source code under the Eclipse Public License (EPL).\n",
      "         For more information visit http://projects.coin-or.org/Ipopt\n",
      "******************************************************************************\n",
      "\n",
      "This is Ipopt version 3.12.10, running with linear solver ma57.\n",
      "\n",
      "Number of nonzeros in equality constraint Jacobian...:       80\n",
      "Number of nonzeros in inequality constraint Jacobian.:        0\n",
      "Number of nonzeros in Lagrangian Hessian.............:       20\n",
      "\n",
      "Total number of variables............................:       23\n",
      "                     variables with only lower bounds:        0\n",
      "                variables with lower and upper bounds:        1\n",
      "                     variables with only upper bounds:        0\n",
      "Total number of equality constraints.................:       20\n",
      "Total number of inequality constraints...............:        0\n",
      "        inequality constraints with only lower bounds:        0\n",
      "   inequality constraints with lower and upper bounds:        0\n",
      "        inequality constraints with only upper bounds:        0\n",
      "\n",
      "iter    objective    inf_pr   inf_du lg(mu)  ||d||  lg(rg) alpha_du alpha_pr  ls\n",
      "   0  2.0000000e+01 0.00e+00 3.53e-01   0.0 0.00e+00    -  0.00e+00 0.00e+00   0\n",
      "   1  2.7366519e-03 8.88e-16 6.04e-04  -4.0 7.27e+00    -  9.77e-01 1.00e+00f  1\n",
      "   2  3.6519866e-04 8.88e-16 7.78e-05  -1.7 2.55e+00    -  9.97e-01 1.00e+00f  1\n",
      "   3  3.6517262e-04 8.88e-16 1.65e-06  -7.6 8.46e-03    -  9.90e-01 1.00e+00h  1\n",
      "   4  3.6517262e-04 8.88e-16 5.83e-10  -9.6 3.20e-07    -  1.00e+00 1.00e+00h  1\n",
      "\n",
      "Number of Iterations....: 4\n",
      "\n",
      "                                   (scaled)                 (unscaled)\n",
      "Objective...............:   3.6517261744012050e-04    3.6517261744012050e-04\n",
      "Dual infeasibility......:   5.8334285001150800e-10    5.8334285001150800e-10\n",
      "Constraint violation....:   8.8817841970012523e-16    8.8817841970012523e-16\n",
      "Complementarity.........:   1.2456078059784035e-07    1.2456078059784035e-07\n",
      "Overall NLP error.......:   1.2456078059784035e-07    1.2456078059784035e-07\n",
      "\n",
      "\n",
      "Number of objective function evaluations             = 5\n",
      "Number of objective gradient evaluations             = 5\n",
      "Number of equality constraint evaluations            = 5\n",
      "Number of inequality constraint evaluations          = 0\n",
      "Number of equality constraint Jacobian evaluations   = 5\n",
      "Number of inequality constraint Jacobian evaluations = 0\n",
      "Number of Lagrangian Hessian evaluations             = 4\n",
      "Total CPU secs in IPOPT (w/o function evaluations)   =      0.004\n",
      "Total CPU secs in NLP function evaluations           =      0.002\n",
      "\n",
      "EXIT: Optimal Solution Found.\n",
      " \n",
      " The solution was found.\n",
      " \n",
      " The final value of the objective function is   3.651726174401205E-004\n",
      " \n",
      " ---------------------------------------------------\n",
      " Solver         :  IPOPT (v3.12)\n",
      " Solution time  :   1.079999998910353E-002 sec\n",
      " Objective      :   3.651726174401205E-004\n",
      " Successful solution\n",
      " ---------------------------------------------------\n",
      " \n"
     ]
    }
   ],
   "source": [
    "# Define model\n",
    "m.Equation(ypred == a + b/X + c*m.log(X))\n",
    "m.Minimize(((ypred-ymeas) / ymeas) ** 2)\n",
    "m.options.IMODE = 2\n",
    "m.solve()"
   ]
  },
  {
   "cell_type": "code",
   "execution_count": 11,
   "metadata": {},
   "outputs": [
    {
     "name": "stdout",
     "output_type": "stream",
     "text": [
      "Final SSE Objective: 0.00036517261744\n"
     ]
    }
   ],
   "source": [
    "# Show final objective\n",
    "print(f'Final SSE Objective: {m.options.objfcnval}')"
   ]
  },
  {
   "cell_type": "code",
   "execution_count": 13,
   "metadata": {},
   "outputs": [
    {
     "data": {
      "image/png": "[encoded data removed]",
      "text/plain": [
       "<Figure size 640x480 with 1 Axes>"
      ]
     },
     "metadata": {},
     "output_type": "display_data"
    }
   ],
   "source": [
    "# Print solution\n",
    "# Importing necessary libraries\n",
    "import matplotlib.pyplot as plt\n",
    "\n",
    "plt.figure(1)\n",
    "plt.plot(X,ymeas,'ro')\n",
    "plt.plot(X,ypred, 'bx')\n",
    "plt.xlabel('X')\n",
    "plt.ylabel('y')\n",
    "plt.legend(['Measured', 'Predicted'], loc='best')\n",
    "plt.savefig('results_GEKKO.png')\n",
    "plt.show()"
   ]
  }
 ],
 "metadata": {
  "kernelspec": {
   "display_name": "Python 3",
   "language": "python",
   "name": "python3"
  },
  "language_info": {
   "codemirror_mode": {
    "name": "ipython",
    "version": 3
   },
   "file_extension": ".py",
   "mimetype": "text/x-python",
   "name": "python",
   "nbconvert_exporter": "python",
   "pygments_lexer": "ipython3",
   "version": "3.9.6"
  },
  "orig_nbformat": 4,
  "vscode": {
   "interpreter": {
    "hash": "81794d4967e6c3204c66dcd87b604927b115b27c00565d3d43f05ba2f3a2cb0d"
   }
  }
 },
 "nbformat": 4,
 "nbformat_minor": 2
}
